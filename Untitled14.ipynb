{
 "cells": [
  {
   "cell_type": "code",
   "execution_count": null,
   "metadata": {},
   "outputs": [],
   "source": [
    "ships = {'carrier' : 'ccccc',\n",
    "         'battleship' : 'bbbb',\n",
    "         'cruiser' : 'rrr',\n",
    "         'submarine' : 'sss',\n",
    "         'destroyer' : 'dd'}\n",
    "\n",
    "point = 'X'\n",
    "\n",
    "\n",
    "def drawBoard():\n",
    "    print(\"WELCOME TO BATTLESHIP v1.0\")\n",
    "    print(\"This is the game board.\")\n",
    "    print(\"Please deploy your ships...\")\n",
    "    print()\n",
    "    \n",
    "    row = ''\n",
    "    grid = []\n",
    "    \n",
    "    for char in range(100):\n",
    "        row += point\n",
    "        \n",
    "        if len(row) == 10:\n",
    "            grid.append(list(row))\n",
    "            print(row)\n",
    "            row = ''\n",
    "    return grid\n",
    "\n",
    "coordinates = [[1, 2, 'H'], [2, 1, 'H'], [3, 3, 'H'], [4, 2, 'H'], [5, 1, 'H']]\n",
    "\n",
    "def validateCoordinate(grid, coordinates):\n",
    "    pass\n",
    "\n",
    "\n",
    "def placeShips(grid, coordinates):\n",
    "    for rowNo in range(1, len(grid) + 1):\n",
    "        for xy in coordinates:\n",
    "            if rowNo == xy[0]:\n",
    "                x_axis = xy[0]\n",
    "                y_axis = xy[1]\n",
    "                \n",
    "            \n",
    "                \n",
    "grid = drawBoard()\n",
    "placeShips(grid, coordinates)\n",
    "\n",
    "\n",
    "\n",
    "def intro():\n",
    "    print('Welcome to BATTLESHIP v1.0')\n",
    "    print('')"
   ]
  },
  {
   "cell_type": "code",
   "execution_count": null,
   "metadata": {},
   "outputs": [],
   "source": [
    "def drawBoard():\n",
    "    print(\"WELCOME TO BATTLESHIP v1.0\")\n",
    "    print(\"This is the game board.\")\n",
    "    print(\"Please deploy your ships...\")\n",
    "    print()\n",
    "    \n",
    "    row = ''\n",
    "    grid = []\n",
    "    \n",
    "    for char in range(100):\n",
    "        row += point\n",
    "        \n",
    "        if len(row) == 10:\n",
    "            grid.append(list(row))\n",
    "            print(row)\n",
    "            row = ''\n",
    "    return grid"
   ]
  },
  {
   "cell_type": "code",
   "execution_count": 4,
   "metadata": {},
   "outputs": [
    {
     "name": "stdout",
     "output_type": "stream",
     "text": [
      "Enter the coordinates (row, column) and orientation for carrier\n",
      "1 2 H\n",
      "Enter the coordinates (row, column) and orientation for battleship\n",
      "3 5 V\n",
      "Enter the coordinates (row, column) and orientation for cruiser\n",
      "4 4 H\n",
      "Enter the coordinates (row, column) and orientation for submarine\n",
      "5 9 V\n",
      "Enter the coordinates (row, column) and orientation for destroyer\n",
      "4 5 H\n",
      "[['1', '2', 'H'], ['3', '5', 'V'], ['4', '4', 'H'], ['5', '9', 'V'], ['4', '5', 'H']]\n"
     ]
    }
   ],
   "source": [
    "ships = {'carrier' : 'ccccc',\n",
    "         'battleship' : 'bbbb',\n",
    "         'cruiser' : 'rrr',\n",
    "         'submarine' : 'sss',\n",
    "         'destroyer' : 'dd'}\n",
    "\n",
    "coordinates = []\n",
    "\n",
    "def take_positions():\n",
    "    for ship in ships.keys():\n",
    "        print('Enter the coordinates (row, column) and orientation (H/V) for %s' %(ship))\n",
    "        position = input().split()\n",
    "    \n",
    "        coordinates.append(position)\n",
    "\n",
    "    return coordinates\n",
    "    \n",
    "take_positions()"
   ]
  },
  {
   "cell_type": "code",
   "execution_count": null,
   "metadata": {},
   "outputs": [],
   "source": []
  }
 ],
 "metadata": {
  "kernelspec": {
   "display_name": "Python 3",
   "language": "python",
   "name": "python3"
  },
  "language_info": {
   "codemirror_mode": {
    "name": "ipython",
    "version": 3
   },
   "file_extension": ".py",
   "mimetype": "text/x-python",
   "name": "python",
   "nbconvert_exporter": "python",
   "pygments_lexer": "ipython3",
   "version": "3.7.1"
  }
 },
 "nbformat": 4,
 "nbformat_minor": 2
}
